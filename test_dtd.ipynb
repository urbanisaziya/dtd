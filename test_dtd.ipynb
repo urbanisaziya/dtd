{
 "cells": [
  {
   "cell_type": "code",
   "execution_count": 1,
   "metadata": {},
   "outputs": [
    {
     "name": "stdout",
     "output_type": "stream",
     "text": [
      "Populating the interactive namespace from numpy and matplotlib\n"
     ]
    }
   ],
   "source": [
    "import pandas as pd\n",
    "import numpy as np\n",
    "import seaborn as sns\n",
    "%pylab inline\n",
    "\n",
    "#В файле размещены данные обо всех сессиях всех игроков игры X за последние 90 дней \n",
    "#(udid - id игрока, time - дата, count - количество сессий в день, avg_duration - средняя продолжительность сессии \n",
    "#в секундах). Постройте на основании этих данных модель прогнозирования ухода игрока. Применяемые методы и \n",
    "#инструменты ограничены лишь вашей фантазией и умениями. Главное, что модель в итоге должна уметь прогнозировать \n",
    "#для каждого конкретного игрока с какой-либо вероятностью то, что он в ближайшее время покинет проект. \n",
    "#Покинувшим проект игроком давайте считать того, кто не заходил в игру уже минимум две недели. \n"
   ]
  },
  {
   "cell_type": "code",
   "execution_count": 2,
   "metadata": {},
   "outputs": [
    {
     "data": {
      "text/html": [
       "<div>\n",
       "<style scoped>\n",
       "    .dataframe tbody tr th:only-of-type {\n",
       "        vertical-align: middle;\n",
       "    }\n",
       "\n",
       "    .dataframe tbody tr th {\n",
       "        vertical-align: top;\n",
       "    }\n",
       "\n",
       "    .dataframe thead th {\n",
       "        text-align: right;\n",
       "    }\n",
       "</style>\n",
       "<table border=\"1\" class=\"dataframe\">\n",
       "  <thead>\n",
       "    <tr style=\"text-align: right;\">\n",
       "      <th></th>\n",
       "      <th>udid</th>\n",
       "      <th>time</th>\n",
       "      <th>count</th>\n",
       "      <th>avg_duration</th>\n",
       "    </tr>\n",
       "  </thead>\n",
       "  <tbody>\n",
       "    <tr>\n",
       "      <th>0</th>\n",
       "      <td>104008439</td>\n",
       "      <td>1474588800</td>\n",
       "      <td>2</td>\n",
       "      <td>112</td>\n",
       "    </tr>\n",
       "    <tr>\n",
       "      <th>1</th>\n",
       "      <td>104011104</td>\n",
       "      <td>1474588800</td>\n",
       "      <td>2</td>\n",
       "      <td>44</td>\n",
       "    </tr>\n",
       "    <tr>\n",
       "      <th>2</th>\n",
       "      <td>104022241</td>\n",
       "      <td>1474588800</td>\n",
       "      <td>2</td>\n",
       "      <td>413</td>\n",
       "    </tr>\n",
       "    <tr>\n",
       "      <th>3</th>\n",
       "      <td>104022356</td>\n",
       "      <td>1474588800</td>\n",
       "      <td>2</td>\n",
       "      <td>125</td>\n",
       "    </tr>\n",
       "    <tr>\n",
       "      <th>4</th>\n",
       "      <td>104022069</td>\n",
       "      <td>1474592400</td>\n",
       "      <td>5</td>\n",
       "      <td>1561</td>\n",
       "    </tr>\n",
       "  </tbody>\n",
       "</table>\n",
       "</div>"
      ],
      "text/plain": [
       "        udid        time  count  avg_duration\n",
       "0  104008439  1474588800      2           112\n",
       "1  104011104  1474588800      2            44\n",
       "2  104022241  1474588800      2           413\n",
       "3  104022356  1474588800      2           125\n",
       "4  104022069  1474592400      5          1561"
      ]
     },
     "execution_count": 2,
     "metadata": {},
     "output_type": "execute_result"
    }
   ],
   "source": [
    "df = pd.read_csv('TestGameSessions.csv')\n",
    "df.head()"
   ]
  },
  {
   "cell_type": "code",
   "execution_count": 3,
   "metadata": {},
   "outputs": [
    {
     "data": {
      "text/plain": [
       "(12923, 4)"
      ]
     },
     "execution_count": 3,
     "metadata": {},
     "output_type": "execute_result"
    }
   ],
   "source": [
    "df.shape"
   ]
  },
  {
   "cell_type": "code",
   "execution_count": 4,
   "metadata": {},
   "outputs": [
    {
     "name": "stdout",
     "output_type": "stream",
     "text": [
      "<class 'pandas.core.frame.DataFrame'>\n",
      "RangeIndex: 12923 entries, 0 to 12922\n",
      "Data columns (total 4 columns):\n",
      "udid            12923 non-null int64\n",
      "time            12923 non-null int64\n",
      "count           12923 non-null int64\n",
      "avg_duration    12923 non-null int64\n",
      "dtypes: int64(4)\n",
      "memory usage: 403.9 KB\n"
     ]
    }
   ],
   "source": [
    "df.info()"
   ]
  },
  {
   "cell_type": "code",
   "execution_count": 5,
   "metadata": {},
   "outputs": [
    {
     "data": {
      "text/html": [
       "<div>\n",
       "<style scoped>\n",
       "    .dataframe tbody tr th:only-of-type {\n",
       "        vertical-align: middle;\n",
       "    }\n",
       "\n",
       "    .dataframe tbody tr th {\n",
       "        vertical-align: top;\n",
       "    }\n",
       "\n",
       "    .dataframe thead th {\n",
       "        text-align: right;\n",
       "    }\n",
       "</style>\n",
       "<table border=\"1\" class=\"dataframe\">\n",
       "  <thead>\n",
       "    <tr style=\"text-align: right;\">\n",
       "      <th></th>\n",
       "      <th>udid</th>\n",
       "      <th>time</th>\n",
       "      <th>count</th>\n",
       "      <th>avg_duration</th>\n",
       "    </tr>\n",
       "  </thead>\n",
       "  <tbody>\n",
       "    <tr>\n",
       "      <th>count</th>\n",
       "      <td>1.292300e+04</td>\n",
       "      <td>1.292300e+04</td>\n",
       "      <td>12923.000000</td>\n",
       "      <td>12923.000000</td>\n",
       "    </tr>\n",
       "    <tr>\n",
       "      <th>mean</th>\n",
       "      <td>1.039821e+08</td>\n",
       "      <td>1.478318e+09</td>\n",
       "      <td>1.456009</td>\n",
       "      <td>3072.271377</td>\n",
       "    </tr>\n",
       "    <tr>\n",
       "      <th>std</th>\n",
       "      <td>6.143904e+05</td>\n",
       "      <td>2.132706e+06</td>\n",
       "      <td>1.462151</td>\n",
       "      <td>11164.270049</td>\n",
       "    </tr>\n",
       "    <tr>\n",
       "      <th>min</th>\n",
       "      <td>7.438516e+07</td>\n",
       "      <td>1.474589e+09</td>\n",
       "      <td>1.000000</td>\n",
       "      <td>1.000000</td>\n",
       "    </tr>\n",
       "    <tr>\n",
       "      <th>25%</th>\n",
       "      <td>1.040141e+08</td>\n",
       "      <td>1.476572e+09</td>\n",
       "      <td>1.000000</td>\n",
       "      <td>53.000000</td>\n",
       "    </tr>\n",
       "    <tr>\n",
       "      <th>50%</th>\n",
       "      <td>1.040233e+08</td>\n",
       "      <td>1.478135e+09</td>\n",
       "      <td>1.000000</td>\n",
       "      <td>259.000000</td>\n",
       "    </tr>\n",
       "    <tr>\n",
       "      <th>75%</th>\n",
       "      <td>1.040263e+08</td>\n",
       "      <td>1.480110e+09</td>\n",
       "      <td>1.000000</td>\n",
       "      <td>954.500000</td>\n",
       "    </tr>\n",
       "    <tr>\n",
       "      <th>max</th>\n",
       "      <td>1.040312e+08</td>\n",
       "      <td>1.482364e+09</td>\n",
       "      <td>36.000000</td>\n",
       "      <td>86253.000000</td>\n",
       "    </tr>\n",
       "  </tbody>\n",
       "</table>\n",
       "</div>"
      ],
      "text/plain": [
       "               udid          time         count  avg_duration\n",
       "count  1.292300e+04  1.292300e+04  12923.000000  12923.000000\n",
       "mean   1.039821e+08  1.478318e+09      1.456009   3072.271377\n",
       "std    6.143904e+05  2.132706e+06      1.462151  11164.270049\n",
       "min    7.438516e+07  1.474589e+09      1.000000      1.000000\n",
       "25%    1.040141e+08  1.476572e+09      1.000000     53.000000\n",
       "50%    1.040233e+08  1.478135e+09      1.000000    259.000000\n",
       "75%    1.040263e+08  1.480110e+09      1.000000    954.500000\n",
       "max    1.040312e+08  1.482364e+09     36.000000  86253.000000"
      ]
     },
     "execution_count": 5,
     "metadata": {},
     "output_type": "execute_result"
    }
   ],
   "source": [
    "df.describe()"
   ]
  },
  {
   "cell_type": "code",
   "execution_count": 7,
   "metadata": {},
   "outputs": [],
   "source": [
    "df['time']= pd.to_datetime(df['time'], unit='s')"
   ]
  },
  {
   "cell_type": "code",
   "execution_count": 15,
   "metadata": {},
   "outputs": [
    {
     "data": {
      "text/html": [
       "<div>\n",
       "<style scoped>\n",
       "    .dataframe tbody tr th:only-of-type {\n",
       "        vertical-align: middle;\n",
       "    }\n",
       "\n",
       "    .dataframe tbody tr th {\n",
       "        vertical-align: top;\n",
       "    }\n",
       "\n",
       "    .dataframe thead th {\n",
       "        text-align: right;\n",
       "    }\n",
       "</style>\n",
       "<table border=\"1\" class=\"dataframe\">\n",
       "  <thead>\n",
       "    <tr style=\"text-align: right;\">\n",
       "      <th></th>\n",
       "      <th>udid</th>\n",
       "      <th>time</th>\n",
       "      <th>count</th>\n",
       "      <th>avg_duration</th>\n",
       "    </tr>\n",
       "  </thead>\n",
       "  <tbody>\n",
       "    <tr>\n",
       "      <th>0</th>\n",
       "      <td>104008439</td>\n",
       "      <td>2016-09-23 00:00:00</td>\n",
       "      <td>2</td>\n",
       "      <td>112</td>\n",
       "    </tr>\n",
       "    <tr>\n",
       "      <th>1</th>\n",
       "      <td>104011104</td>\n",
       "      <td>2016-09-23 00:00:00</td>\n",
       "      <td>2</td>\n",
       "      <td>44</td>\n",
       "    </tr>\n",
       "    <tr>\n",
       "      <th>2</th>\n",
       "      <td>104022241</td>\n",
       "      <td>2016-09-23 00:00:00</td>\n",
       "      <td>2</td>\n",
       "      <td>413</td>\n",
       "    </tr>\n",
       "    <tr>\n",
       "      <th>3</th>\n",
       "      <td>104022356</td>\n",
       "      <td>2016-09-23 00:00:00</td>\n",
       "      <td>2</td>\n",
       "      <td>125</td>\n",
       "    </tr>\n",
       "    <tr>\n",
       "      <th>4</th>\n",
       "      <td>104022069</td>\n",
       "      <td>2016-09-23 01:00:00</td>\n",
       "      <td>5</td>\n",
       "      <td>1561</td>\n",
       "    </tr>\n",
       "    <tr>\n",
       "      <th>5</th>\n",
       "      <td>104022090</td>\n",
       "      <td>2016-09-23 01:00:00</td>\n",
       "      <td>3</td>\n",
       "      <td>2631</td>\n",
       "    </tr>\n",
       "    <tr>\n",
       "      <th>6</th>\n",
       "      <td>104022326</td>\n",
       "      <td>2016-09-23 01:00:00</td>\n",
       "      <td>2</td>\n",
       "      <td>70</td>\n",
       "    </tr>\n",
       "    <tr>\n",
       "      <th>7</th>\n",
       "      <td>103995348</td>\n",
       "      <td>2016-09-23 01:00:00</td>\n",
       "      <td>1</td>\n",
       "      <td>72612</td>\n",
       "    </tr>\n",
       "    <tr>\n",
       "      <th>8</th>\n",
       "      <td>104022332</td>\n",
       "      <td>2016-09-23 01:00:00</td>\n",
       "      <td>1</td>\n",
       "      <td>63</td>\n",
       "    </tr>\n",
       "    <tr>\n",
       "      <th>9</th>\n",
       "      <td>104009608</td>\n",
       "      <td>2016-09-23 01:00:00</td>\n",
       "      <td>2</td>\n",
       "      <td>639</td>\n",
       "    </tr>\n",
       "  </tbody>\n",
       "</table>\n",
       "</div>"
      ],
      "text/plain": [
       "        udid                time  count  avg_duration\n",
       "0  104008439 2016-09-23 00:00:00      2           112\n",
       "1  104011104 2016-09-23 00:00:00      2            44\n",
       "2  104022241 2016-09-23 00:00:00      2           413\n",
       "3  104022356 2016-09-23 00:00:00      2           125\n",
       "4  104022069 2016-09-23 01:00:00      5          1561\n",
       "5  104022090 2016-09-23 01:00:00      3          2631\n",
       "6  104022326 2016-09-23 01:00:00      2            70\n",
       "7  103995348 2016-09-23 01:00:00      1         72612\n",
       "8  104022332 2016-09-23 01:00:00      1            63\n",
       "9  104009608 2016-09-23 01:00:00      2           639"
      ]
     },
     "execution_count": 15,
     "metadata": {},
     "output_type": "execute_result"
    }
   ],
   "source": [
    "df.head(10)"
   ]
  },
  {
   "cell_type": "code",
   "execution_count": 9,
   "metadata": {},
   "outputs": [
    {
     "data": {
      "text/plain": [
       "Timestamp('2016-12-21 23:40:00')"
      ]
     },
     "execution_count": 9,
     "metadata": {},
     "output_type": "execute_result"
    }
   ],
   "source": [
    "df['time'].max()"
   ]
  },
  {
   "cell_type": "code",
   "execution_count": 24,
   "metadata": {},
   "outputs": [],
   "source": [
    "df_active=df[df['time']>'2016-12-08']"
   ]
  },
  {
   "cell_type": "code",
   "execution_count": 25,
   "metadata": {},
   "outputs": [
    {
     "data": {
      "text/html": [
       "<div>\n",
       "<style scoped>\n",
       "    .dataframe tbody tr th:only-of-type {\n",
       "        vertical-align: middle;\n",
       "    }\n",
       "\n",
       "    .dataframe tbody tr th {\n",
       "        vertical-align: top;\n",
       "    }\n",
       "\n",
       "    .dataframe thead th {\n",
       "        text-align: right;\n",
       "    }\n",
       "</style>\n",
       "<table border=\"1\" class=\"dataframe\">\n",
       "  <thead>\n",
       "    <tr style=\"text-align: right;\">\n",
       "      <th></th>\n",
       "      <th>udid</th>\n",
       "      <th>time</th>\n",
       "      <th>count</th>\n",
       "      <th>avg_duration</th>\n",
       "    </tr>\n",
       "  </thead>\n",
       "  <tbody>\n",
       "    <tr>\n",
       "      <th>11320</th>\n",
       "      <td>104023758</td>\n",
       "      <td>2016-12-08 00:50:00</td>\n",
       "      <td>1</td>\n",
       "      <td>12</td>\n",
       "    </tr>\n",
       "    <tr>\n",
       "      <th>11321</th>\n",
       "      <td>103987642</td>\n",
       "      <td>2016-12-08 01:00:00</td>\n",
       "      <td>1</td>\n",
       "      <td>514</td>\n",
       "    </tr>\n",
       "    <tr>\n",
       "      <th>11322</th>\n",
       "      <td>104023758</td>\n",
       "      <td>2016-12-08 01:00:00</td>\n",
       "      <td>2</td>\n",
       "      <td>196</td>\n",
       "    </tr>\n",
       "    <tr>\n",
       "      <th>11323</th>\n",
       "      <td>104030129</td>\n",
       "      <td>2016-12-08 01:00:00</td>\n",
       "      <td>2</td>\n",
       "      <td>12933</td>\n",
       "    </tr>\n",
       "    <tr>\n",
       "      <th>11324</th>\n",
       "      <td>104023758</td>\n",
       "      <td>2016-12-08 01:10:00</td>\n",
       "      <td>2</td>\n",
       "      <td>908</td>\n",
       "    </tr>\n",
       "  </tbody>\n",
       "</table>\n",
       "</div>"
      ],
      "text/plain": [
       "            udid                time  count  avg_duration\n",
       "11320  104023758 2016-12-08 00:50:00      1            12\n",
       "11321  103987642 2016-12-08 01:00:00      1           514\n",
       "11322  104023758 2016-12-08 01:00:00      2           196\n",
       "11323  104030129 2016-12-08 01:00:00      2         12933\n",
       "11324  104023758 2016-12-08 01:10:00      2           908"
      ]
     },
     "execution_count": 25,
     "metadata": {},
     "output_type": "execute_result"
    }
   ],
   "source": [
    "df_active.head()"
   ]
  },
  {
   "cell_type": "code",
   "execution_count": 35,
   "metadata": {},
   "outputs": [
    {
     "name": "stdout",
     "output_type": "stream",
     "text": [
      "<class 'pandas.core.frame.DataFrame'>\n",
      "Int64Index: 1603 entries, 11320 to 12922\n",
      "Data columns (total 4 columns):\n",
      "udid            1603 non-null int64\n",
      "time            1603 non-null datetime64[ns]\n",
      "count           1603 non-null int64\n",
      "avg_duration    1603 non-null int64\n",
      "dtypes: datetime64[ns](1), int64(3)\n",
      "memory usage: 142.6 KB\n"
     ]
    }
   ],
   "source": [
    "df_active.info()"
   ]
  },
  {
   "cell_type": "code",
   "execution_count": null,
   "metadata": {},
   "outputs": [],
   "source": []
  },
  {
   "cell_type": "code",
   "execution_count": null,
   "metadata": {},
   "outputs": [],
   "source": []
  },
  {
   "cell_type": "code",
   "execution_count": null,
   "metadata": {},
   "outputs": [],
   "source": []
  }
 ],
 "metadata": {
  "kernelspec": {
   "display_name": "Python 3",
   "language": "python",
   "name": "python3"
  },
  "language_info": {
   "codemirror_mode": {
    "name": "ipython",
    "version": 3
   },
   "file_extension": ".py",
   "mimetype": "text/x-python",
   "name": "python",
   "nbconvert_exporter": "python",
   "pygments_lexer": "ipython3",
   "version": "3.6.4"
  }
 },
 "nbformat": 4,
 "nbformat_minor": 2
}
